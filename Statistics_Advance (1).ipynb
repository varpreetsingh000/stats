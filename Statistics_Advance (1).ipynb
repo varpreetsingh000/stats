{
  "nbformat": 4,
  "nbformat_minor": 0,
  "metadata": {
    "colab": {
      "provenance": []
    },
    "kernelspec": {
      "name": "python3",
      "display_name": "Python 3"
    },
    "language_info": {
      "name": "python"
    }
  },
  "cells": [
    {
      "cell_type": "markdown",
      "source": [
        "**Ques-1 Define the z-statistic and explain its relationship to the standard normal distribution. How is the z-statistic used in hypothesis testing?**"
      ],
      "metadata": {
        "id": "743gwZlSpYUQ"
      }
    },
    {
      "cell_type": "markdown",
      "source": [
        "The z-statistic, or z-score, is a measure of how many standard deviations a data point (or sample mean) is from the population mean. It is used to standardize data points within a distribution, allowing for comparisons between different datasets or different data points.\n",
        "\n",
        "--> Relationship to the Standard Normal Distribution\n",
        "\n",
        "The standard normal distribution is a special case of the normal distribution where the mean is 0 and the standard deviation is 1. The z-statistic transforms any normal distribution into the standard normal distribution by standardizing the data, making it easier to use probability tables and perform hypothesis testing.\n",
        "\n",
        "For standard normal distribution:\n",
        "\n",
        "1. A z-score of 0 means the value is exactly at the mean.\n",
        "\n",
        "2. Positive z-scores indicate values above the mean, while negative z-scores indicate values below the mean.\n",
        "\n",
        "3. The area under the standard normal curve corresponds to probabilities, making it easier to determine the likelihood of observing a value or sample mean.\n",
        "\n",
        "--> Z-Statistic in Hypothesis Testing\n",
        "\n",
        "1. In hypothesis testing, the z-statistic helps determine whether to reject the null hypothesis (H0). It is used in the following steps:\n",
        "\n",
        "Formulate the hypotheses:\n",
        "\n",
        "Null hypothesis (H0): Typically states that there is no effect or difference (e.g., 𝜇=𝜇0).\n",
        "\n",
        "Alternative hypothesis (H1): Proposes that there is an effect or difference.\n",
        "\n",
        "2. Compute the z-statistic: Based on the sample data, calculate the z-statistic using the formula.\n",
        "\n",
        "3. Compare to critical values:\n",
        "\n",
        "For a given significance level (𝛼), use the standard normal distribution to find the critical z-values (e.g., ±1.96 for a 95% confidence level).\n",
        "\n",
        "If the z-statistic lies beyond these critical values, it falls in the rejection region, and you reject the null hypothesis.\n",
        "\n",
        "4. Determine the p-value:\n",
        "\n",
        "The p-value represents the probability of observing the sample data if the null hypothesis is true.\n",
        "\n",
        "If the p-value is less than the significance level (𝛼), reject H0."
      ],
      "metadata": {
        "id": "Gn18Z5bVpbZr"
      }
    },
    {
      "cell_type": "markdown",
      "source": [
        "**Ques-2 What is a p-value, and how is it used in hypothesis testing? What does it mean if the p-value is very small (e.g., 0.01)?**"
      ],
      "metadata": {
        "id": "cugujin-rH7Y"
      }
    },
    {
      "cell_type": "markdown",
      "source": [
        "The p-value (probability value) in hypothesis testing is the probability of observing a test statistic as extreme as, or more extreme than, the value calculated from the sample data, assuming that the null hypothesis (H0) is true. In simpler terms, it measures how likely the observed data would occur by random chance if the null hypothesis is correct.\n",
        "\n",
        "--> In hypothesis testing, the p-value helps decide whether to reject the null hypothesis. The process involves the following steps:\n",
        "\n",
        "1. Set a significance level (𝛼): Before conducting the test, choose a significance level, typically 0.05 (5%) or 0.01 (1%). This is the threshold for rejecting the null hypothesis.\n",
        "\n",
        "2. Calculate the p-value: Based on the sample data, calculate the p-value using the test statistic (z-score, t-score, etc.).\n",
        "\n",
        "3. Compare p-value to 𝛼:\n",
        "\n",
        "If p-value ≤ 𝛼: Reject the null hypothesis. This indicates that the observed data is unlikely to have occurred under the assumption that H0 is true, suggesting there is a statistically significant effect.\n",
        "\n",
        "If p-value > 𝛼: Fail to reject the null hypothesis. This means there isn't enough evidence to support a statistically significant effect or difference.\n",
        "\n",
        "--> When the p-value is very small, such as 0.01, it means that the probability of observing the sample data (or something more extreme) under the assumption that the null hypothesis is true is very low (1%). In other words, the data provides strong evidence against the null hypothesis.\n",
        "\n",
        "If the significance level (𝛼) is set at 0.05, a p-value of 0.01 means:\n",
        "\n",
        "The observed result is unlikely to have occurred by random chance if the null hypothesis is true.\n",
        "\n",
        "There is strong evidence to reject the null hypothesis in favor of the alternative hypothesis."
      ],
      "metadata": {
        "id": "vWvu_BY5GbVI"
      }
    },
    {
      "cell_type": "markdown",
      "source": [
        "**Ques-3 Compare and contrast the binomial and Bernoulli distributions.**"
      ],
      "metadata": {
        "id": "NmnKOUs-HJEK"
      }
    },
    {
      "cell_type": "markdown",
      "source": [
        "--> Bernoulli Distribution:\n",
        "\n",
        "A Bernoulli distribution models the outcome of a single trial with two possible outcomes: \"success\" (usually coded as 1) or \"failure\" (usually coded as 0).\n",
        "\n",
        "The probability of success is denoted by 𝑝, and the probability of failure is 1−p.\n",
        "It's a special case of the binomial distribution where the number of trials n=1.\n",
        "\n",
        "Example: Flipping a coin once, where success (heads) occurs with probability\n",
        "p, and failure (tails) occurs with probability 1−p.\n",
        "\n",
        "--> Binomial Distribution:\n",
        "\n",
        "A Binomial distribution models the outcome of multiple independent Bernoulli trials (i.e., repeated experiments) where each trial has the same probability of success p.\n",
        "\n",
        "The binomial distribution calculates the probability of observing a certain number of successes (k) out of n trials.\n",
        "\n",
        "Example: Flipping a coin 10 times and counting how many times you get heads (successes).\n",
        "\n",
        "1. Parameters\n",
        "\n",
        "-> Bernoulli Distribution:\n",
        "\n",
        "Number of trials: n=1\n",
        "\n",
        "Probability of success: p\n",
        "\n",
        "-> Binomial Distribution:\n",
        "\n",
        "Number of trials: n, where n is greater than 1\n",
        "\n",
        "Probability of success in each trial: p\n",
        "\n",
        "2. Support (Range of Values)\n",
        "\n",
        "-> Bernoulli Distribution:\n",
        "\n",
        "X can take only two possible values: 0 (failure) or 1 (success).\n",
        "\n",
        "-> Binomial Distribution:\n",
        "\n",
        "X can take integer values from 0 to n (i.e., the number of successes can range from 0 to n).\n",
        "\n"
      ],
      "metadata": {
        "id": "SoL_QzgpMsgl"
      }
    },
    {
      "cell_type": "markdown",
      "source": [
        "**Ques-4  Under what conditions is the binomial distribution used, and how does it relate to the Bernoulli\n",
        "distribution?**"
      ],
      "metadata": {
        "id": "D8cglMnUN9Wk"
      }
    },
    {
      "cell_type": "markdown",
      "source": [
        "The binomial distribution is used under the following conditions:\n",
        "\n",
        "1. Fixed Number of Trials (n):\n",
        "The experiment is repeated a fixed number of times, n, where each trial is independent of the others.\n",
        "\n",
        "2. Binary Outcomes (Success/Failure):\n",
        "Each trial has exactly two possible outcomes: \"success\" or \"failure.\" These are mutually exclusive.\n",
        "\n",
        "3. Constant Probability of Success (p):\n",
        "The probability of success p remains the same for each trial, and the probability of failure is 1−p.\n",
        "\n",
        "4. Independent Trials:\n",
        "The outcome of one trial does not influence the outcome of any other trial. Each trial is independent.\n",
        "\n",
        "--> Relationship Between Bernoulli and Binomial Distributions\n",
        "\n",
        "The Bernoulli distribution is a special case of the binomial distribution where\n",
        "n=1. In other words, if you perform a binomial experiment with just one trial, you are essentially performing a Bernoulli trial.\n",
        "\n",
        "The Bernoulli distribution is a special case of the binomial distribution where the number of trials n=1.\n",
        "\n",
        "In a Bernoulli trial, the outcome is either success (with probability p) or failure (with probability 1−p).\n",
        "\n",
        "A single Bernoulli trial can be described by a binomial distribution with n=1.\n",
        "\n",
        "The binomial distribution is essentially the sum of multiple Bernoulli trials. If you perform multiple Bernoulli experiments, the number of successes follows a binomial distribution."
      ],
      "metadata": {
        "id": "rF7EiyzaOTYh"
      }
    },
    {
      "cell_type": "markdown",
      "source": [
        "**Ques-5 What are the key properties of the Poisson distribution, and when is it appropriate to use this distribution?**"
      ],
      "metadata": {
        "id": "WoWypK7aPeXI"
      }
    },
    {
      "cell_type": "markdown",
      "source": [
        "The Poisson distribution is a discrete probability distribution used to model the number of events occurring within a fixed interval of time, space, or any other dimension, under specific conditions. It is characterized by the following key properties:\n",
        "\n",
        "1. Discrete Random Variable:\n",
        "\n",
        "The Poisson distribution describes a discrete random variable, typically representing the number of events (e.g., occurrences, arrivals) in a fixed period of time or space.\n",
        "\n",
        "2. Parameter:\n",
        "\n",
        "The distribution is characterized by a single parameter, λ, which represents both the average number of events (mean) and the variance.\n",
        "\n",
        "λ>0, where λ is the expected number of events occurring in the given interval.\n",
        "\n",
        "3. Probability Mass Function (PMF):\n",
        "\n",
        "The probability of observing k events in the fixed interval is given by the Poisson probability mass function (PMF):\n",
        "\n",
        "P(X=k) = [(λ^k)(e^-λ)]/k!\n",
        "\n",
        "4. Mean and Variance:\n",
        "\n",
        "Both the mean and the variance of a Poisson-distributed random variable are equal to λ.\n",
        "\n",
        "5. Additivity:\n",
        "\n",
        "If two independent Poisson random variables X1 and X2 have parameters 𝜆1 and 𝜆2 , respectively, then their sum X = X1 + X2 follows a Poisson distribution with parameter 𝜆 = 𝜆1 + 𝜆2.\n",
        "\n",
        "6. Memoryless Property (Lack of Aftereffects):\n",
        "\n",
        "The Poisson process has no memory. The number of events in any disjoint time intervals is independent of each other. The occurrence of an event in one interval does not affect the occurrence in another.\n",
        "\n",
        "--> When is the Poisson Distribution Appropriate to Use?\n",
        "\n",
        "The Poisson distribution is appropriate for modeling situations where the following conditions are met:\n",
        "\n",
        "1. Events Occur Randomly:\n",
        "The events being counted occur randomly and are independent of each other.\n",
        "\n",
        "2. Fixed Interval of Time/Space:\n",
        "The distribution is used to model the number of events that occur within a fixed, continuous interval of time, space, area, volume, etc.\n",
        "\n",
        "3. Average Rate is Constant:\n",
        "The average number of events, λ, occurring within the fixed interval is constant (i.e., the rate at which events occur does not change over time or space).\n",
        "\n",
        "4. Events are Rare Relative to the Interval:\n",
        "The probability of two or more events occurring in an infinitesimally small interval is nearly zero. Essentially, the events should be \"rare\" in the sense that they occur one at a time, with minimal chance of overlap or clustering.\n",
        "\n",
        "5. Independence of Events:\n",
        "The occurrence of one event does not influence the probability of another event occurring. Each event happens independently\n"
      ],
      "metadata": {
        "id": "nEGD21y_QHQB"
      }
    },
    {
      "cell_type": "markdown",
      "source": [
        "**Ques-6 Define the terms \"probability distribution\" and \"probability density function\" (PDF). How does a PDF differ from a probability mass function (PMF)?**"
      ],
      "metadata": {
        "id": "vOg3BIpnR5Ln"
      }
    },
    {
      "cell_type": "markdown",
      "source": [
        "--> Probability Density Function (PDF)\n",
        "\n",
        "A Probability Density Function (PDF) is a function that describes the likelihood of a continuous random variable taking on different values. The PDF provides the relative likelihood of the variable being near a particular value, but it does not give the probability directly. For continuous variables, the probability that the variable takes on any exact value is 0.\n",
        "\n",
        "--> Probability Mass Function (PMF)\n",
        "\n",
        "A Probability Mass Function (PMF) is used for discrete random variables, which take on countable values (such as integers). The PMF gives the probability that a discrete random variable is exactly equal to a specific value.\n",
        "\n",
        "Differences Between PDF and PMF\n",
        "\n",
        "1. Type of Random Variable\n",
        "PDF- Continuous\n",
        "PMF- Discrete\n",
        "\n",
        "2. Definition\n",
        "PDF- Describes the probability density over intervals\n",
        "PMF- Describes the probability at specific points\n",
        "\n",
        "3. Direct Probability Calculation\n",
        "PDF- Probabilities are calculated over intervals\n",
        "PMF- Probabilities are calculated for exact values\n",
        "\n",
        "4. Total Probability\n",
        "PDF- The area under the curve of the PDF equals 1\n",
        "PMF- The sum of the probabilities for all outcomes equals 1\n",
        "\n",
        "5. Examples\n",
        "PDF- Normal distribution, Exponential distribution\n",
        "PMF- Binomial distribution, Poisson distribution"
      ],
      "metadata": {
        "id": "I_FvjwNfSEfZ"
      }
    },
    {
      "cell_type": "markdown",
      "source": [
        "**Ques-7 Explain the Central Limit Theorem (CLT) with example.**"
      ],
      "metadata": {
        "id": "ui2vhxOdWi2j"
      }
    },
    {
      "cell_type": "markdown",
      "source": [
        "The Central Limit Theorem (CLT) is a fundamental statistical principle that states that, under certain conditions, the distribution of the sample mean of a large enough number of independent and identically distributed (i.i.d.) random variables will approximate a normal distribution, regardless of the original distribution of the data.\n",
        "\n",
        "Key Aspects of the CLT:\n",
        "\n",
        "Sample Mean: The CLT applies to the distribution of the mean of the samples, not the individual data points.\n",
        "\n",
        "Large Sample Size: As the sample size n increases, the sample mean becomes more normally distributed.\n",
        "\n",
        "Any Distribution: The original population from which the samples are drawn can follow any distribution (e.g., skewed, uniform, or even a highly irregular distribution). Despite this, the distribution of the sample mean will approach normality as n increases.\n",
        "\n",
        "Normal Distribution Approximation: For large n, the sample mean is approximately normally distributed with:\n",
        "\n",
        "Mean: μ Xˉ=μ (the population mean).\n",
        "\n",
        "-> Central Limit Theorem Formula:\n",
        "\n",
        "Xˉ∼N(μ,σ/n^-2)\n",
        "\n",
        "--> Example of the Central Limit Theorem\n",
        "\n",
        "Scenario: Suppose you run a candy factory, and the weight of a candy bar is not perfectly constant due to small variations in the production process. The weight of a single candy bar follows a skewed distribution (maybe some candies are a bit heavier or lighter than the ideal weight). The average weight of a candy bar is 50 grams, with a standard deviation of 2 grams.\n",
        "\n",
        "Original Distribution: The distribution of the weight of individual candy bars is skewed (not normal).\n",
        "\n",
        "Now, let's say you take random samples of 50 candy bars at a time and calculate the average weight of each sample.\n",
        "\n",
        "CLT in Action:\n",
        "\n",
        "Even though the weight of individual candy bars follows a skewed distribution, according to the Central Limit Theorem, the distribution of the sample means (the average weight of 50 bars) will approximate a normal distribution as you take more samples.\n",
        "\n",
        "As long as the sample size n=50 is sufficiently large, the sample mean will follow a normal distribution with:\n",
        "\n",
        "Mean of the sample mean: μ Xˉ=50 grams (same as the population mean).\n",
        "\n",
        "Standard deviation of the sample mean (standard error):\n",
        "σ Xˉ= σ/n^-2 = 2/(50)^-2\n",
        "≈0.28 grams.\n",
        "\n",
        "The distribution of individual candy bar weights is skewed and does not look normal.\n",
        "\n",
        "However, as you repeatedly take samples of 50 candy bars and calculate the average weight of each sample, the distribution of those sample means will approach a normal distribution with a mean of 50 grams and a standard error of approximately 0.28 grams."
      ],
      "metadata": {
        "id": "djMdIfaAd_5v"
      }
    },
    {
      "cell_type": "markdown",
      "source": [
        "**Ques-8 Compare z-scores and t-scores. When should you use a z-score, and when should a t-score be applied instead?**"
      ],
      "metadata": {
        "id": "QRRNJiPUkeFD"
      }
    },
    {
      "cell_type": "markdown",
      "source": [
        "Z-Scores (Standard Scores)\n",
        "\n",
        "A z-score (or standard score) tells you how many standard deviations a data point is from the mean of the population. It is based on the standard normal distribution (a normal distribution with a mean of 0 and a standard deviation of 1).\n",
        "\n",
        "T-Scores (Student’s t-Scores)\n",
        "\n",
        "A t-score is used when the population standard deviation σ is unknown and the sample size is small. It is based on the t-distribution, which is similar to the normal distribution but has heavier tails, meaning it accounts for more variability when the sample size is small.\n",
        "\n",
        "Key Differences Between Z-Scores and T-Scores:\n",
        "\n",
        "1. Population Standard Deviation (σ)\n",
        "Z-score = Requires known population standard deviation\n",
        "T-score = Used when population standard deviation is unknown\n",
        "\n",
        "2. Sample Size\n",
        "Z-score = Used with larger samples (n>30)\n",
        "T-score = Used with smaller samples (n≤30)\n",
        "\n",
        "3. Distribution\n",
        "Z-score = Based on the standard normal distribution\n",
        "T-score = Based on the t-distribution (with heavier tails)\n",
        "\n",
        "4. Degrees of Freedom\n",
        "Z-score = Not applicable (standard normal distribution)\n",
        "T-score = Depends on sample size, df=n−1\n",
        "\n",
        "5. Applicability\n",
        "Z-score = For normal or near-normal data with known σ\n",
        "T-score = For small samples and unknown σ, non-normal data\n"
      ],
      "metadata": {
        "id": "AAahnnCvn0O4"
      }
    },
    {
      "cell_type": "markdown",
      "source": [
        "**Ques-9 Given a sample mean of 105, a population mean of 100, a standard deviation of 15, and a sample size of 25, calculate the z-score and p-value. Based on a significance level of 0.05, do you reject or fail to\n",
        "reject the null hypothesis?**\n",
        "\n",
        " **Task: Write Python code to calculate the z-score and p-value for the given data.**\n",
        "\n",
        "**Objective: Apply the formula for the z-score and interpret the p-value for hypothesis testing.**"
      ],
      "metadata": {
        "id": "cJ_G6uRppRCM"
      }
    },
    {
      "cell_type": "code",
      "execution_count": null,
      "metadata": {
        "id": "eXODJ3GQlbUN",
        "colab": {
          "base_uri": "https://localhost:8080/"
        },
        "outputId": "6bcd51d6-3a86-4bc4-8baa-761a51ca0071"
      },
      "outputs": [
        {
          "output_type": "stream",
          "name": "stdout",
          "text": [
            "Z-Score: 1.6666666666666667\n",
            "P-Value: 0.09558070454562939\n",
            "Fail to Reject Null Hypothesis\n"
          ]
        }
      ],
      "source": [
        "import scipy.stats as stats\n",
        "\n",
        "\n",
        "sample_mean = 105\n",
        "population_mean = 100\n",
        "std_dev = 15\n",
        "sample_size = 25\n",
        "alpha = 0.05\n",
        "\n",
        "standard_error = std_dev / (sample_size ** 0.5)\n",
        "\n",
        "z_score = (sample_mean - population_mean) / standard_error\n",
        "\n",
        "p_value = 2 * (1 - stats.norm.cdf(abs(z_score)))\n",
        "\n",
        "reject_null = p_value < alpha\n",
        "\n",
        "\n",
        "print(f\"Z-Score: {z_score}\")\n",
        "print(f\"P-Value: {p_value}\")\n",
        "print(\"Reject Null Hypothesis\" if reject_null else \"Fail to Reject Null Hypothesis\")\n"
      ]
    },
    {
      "cell_type": "markdown",
      "source": [
        "**Ques-10 Simulate a binomial distribution with 10 trials and a probability of success of 0.6 using Python.\n",
        "Generate 1,000 samples and plot the distribution. What is the expected mean and variance?**\n",
        "\n",
        "**Task: Use Python to generate the data, plot the distribution, and calculate the mean and variance.**\n",
        "\n",
        "**Objective: Understand the properties of a binomial distribution and verify them through simulation.**"
      ],
      "metadata": {
        "id": "c9Oii-pLqBgg"
      }
    },
    {
      "cell_type": "code",
      "source": [
        "import numpy as np\n",
        "import matplotlib.pyplot as plt\n",
        "\n",
        "\n",
        "n_trials = 10\n",
        "prob_success = 0.6\n",
        "n_samples = 1000\n",
        "\n",
        "samples = np.random.binomial(n=n_trials, p=prob_success, size=n_samples)\n",
        "\n",
        "expected_mean = n_trials * prob_success\n",
        "expected_variance = n_trials * prob_success * (1 - prob_success)\n",
        "\n",
        "plt.hist(samples, bins=range(0, n_trials+2), density=True, edgecolor='black', alpha=0.7)\n",
        "plt.title(\"Binomial Distribution (n=10, p=0.6)\")\n",
        "plt.xlabel(\"Number of Successes\")\n",
        "plt.ylabel(\"Probability\")\n",
        "plt.xticks(range(0, n_trials+1))\n",
        "plt.show()\n",
        "\n",
        "print(f\"Expected Mean: {expected_mean}\")\n",
        "print(f\"Expected Variance: {expected_variance}\")\n"
      ],
      "metadata": {
        "colab": {
          "base_uri": "https://localhost:8080/",
          "height": 507
        },
        "id": "9X66ODOepwLs",
        "outputId": "0a80e99f-c469-481a-d725-f7fcc66c2461"
      },
      "execution_count": null,
      "outputs": [
        {
          "output_type": "display_data",
          "data": {
            "text/plain": [
              "<Figure size 640x480 with 1 Axes>"
            ],
            "image/png": "[encoded data removed]"
          },
          "metadata": {}
        },
        {
          "output_type": "stream",
          "name": "stdout",
          "text": [
            "Expected Mean: 6.0\n",
            "Expected Variance: 2.4000000000000004\n"
          ]
        }
      ]
    },
    {
      "cell_type": "code",
      "source": [],
      "metadata": {
        "id": "1FE98tnOqgSf"
      },
      "execution_count": null,
      "outputs": []
    }
  ]
}